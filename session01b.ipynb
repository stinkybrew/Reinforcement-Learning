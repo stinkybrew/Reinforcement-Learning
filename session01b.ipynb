{
 "cells": [
  {
   "cell_type": "markdown",
   "metadata": {},
   "source": [
    "# TX00DQ05-3001 Reinforcement Learning, exercises 1"
   ]
  },
  {
   "cell_type": "code",
   "execution_count": 1,
   "metadata": {},
   "outputs": [],
   "source": [
    "# import numpy and other useful packages\n",
    "import numpy as np\n",
    "import numpy.linalg as LA"
   ]
  },
  {
   "cell_type": "markdown",
   "metadata": {},
   "source": [
    "## Weather example\n",
    "\n",
    "P is the transition matrix and t0 weather on day 0"
   ]
  },
  {
   "cell_type": "code",
   "execution_count": 2,
   "metadata": {},
   "outputs": [
    {
     "name": "stdout",
     "output_type": "stream",
     "text": [
      "(2, 2)\n",
      "(2,)\n",
      "[0.6 0.4]\n",
      "[0.36 0.64]\n",
      "[0.36 0.64]\n",
      "[0.42852649 0.57147351]\n",
      "[0.42857143 0.57142857]\n",
      "[0.42857143 0.57142857]\n"
     ]
    }
   ],
   "source": [
    "P = np.array(([0.2, 0.8], [0.6, 0.4]))\n",
    "t0 = np.array([0.0, 1.0])\n",
    "\n",
    "print(P.shape)\n",
    "print(t0.shape)\n",
    "\n",
    "t1 = np.dot(t0, P)\n",
    "print(t1)\n",
    "t2 = np.dot(t1, P)\n",
    "print(t2)\n",
    "print(np.dot(t0, LA.matrix_power(P, 2)))\n",
    "print(np.dot(t0, LA.matrix_power(P, 10)))\n",
    "print(np.dot(t0, LA.matrix_power(P, 30)))\n",
    "print(np.dot(t0, LA.matrix_power(P, 50)))"
   ]
  },
  {
   "cell_type": "markdown",
   "metadata": {},
   "source": [
    "## Exercise 1\n",
    "\n",
    "Check some matrix algebra identities with numpy.\n",
    "\n",
    "* A + B = B + A\n",
    "* cA + cB = c(A + B) where c is scalar\n",
    "* if shape of A is (x,y), shape of A.T (transpose) is (y,x) \n",
    "* if v is vector of shape (x,), then v dot A has shape (y,)\n",
    "* verify that shape of A.T dot B is (y, y) and shape of A dot B.T is (x, x)"
   ]
  },
  {
   "cell_type": "code",
   "execution_count": 3,
   "metadata": {},
   "outputs": [],
   "source": [
    "A = np.array(([1, 2, 3], [2, 0 ,2], [3, 0, 1], [4, 1 ,0]))\n",
    "B = np.array(([0, 1, 2], [2, 1, 1], [2, 1, 0], [1, 2, 3]))\n",
    "\n",
    "# YOUR CODE HERE\n"
   ]
  },
  {
   "cell_type": "markdown",
   "metadata": {},
   "source": [
    "## Exercise 2\n",
    "\n",
    "Throw a dice (1..6) repeadetly and maintain the mean value of the \n",
    "numbers continously (and without explicitly storing the numbers or their sum) by\n",
    "computing a correction factor to the previous mean.\n",
    "\n",
    "Hint: mean(n) = sum(n) / n = (sum(n-1) + a(n)) / n = (mean(n-1) * (n-1) + a(n)) / n =\n",
    "mean(n-1) + (a(n) - mean(n-1)) / n\n",
    "\n",
    "Stop computation when correction factor stays below eps for b consecutive rounds or if you reach maxiter iterations.\n",
    "\n",
    "How does changing eps and b influence the number of iterations needed?"
   ]
  },
  {
   "cell_type": "code",
   "execution_count": 4,
   "metadata": {},
   "outputs": [],
   "source": [
    "eps = 0.00001\n",
    "b = 50\n",
    "maxiter = 1000000\n",
    "\n",
    "# YOUR CODE HERE\n"
   ]
  },
  {
   "cell_type": "markdown",
   "metadata": {},
   "source": [
    "## Exercise 3\n",
    "\n",
    "Given transition matrix P and initial state t0 write \n",
    "an iterative algorithm to find the steady state.\n",
    "\n",
    "Stopping condition is that the norm (length of vector, use LA.norm) \n",
    "does not change more than eps in an iteration"
   ]
  },
  {
   "cell_type": "code",
   "execution_count": 5,
   "metadata": {},
   "outputs": [],
   "source": [
    "maxiter = 10000\n",
    "eps = 0.0000001\n",
    "\n",
    "P = np.array(([0.2, 0.1, 0.7], [1.0, 0.0, 0.0], [0.2, 0.2, 0.6]))\n",
    "t0 = np.array([1.0, 0.0, 0.0])\n",
    "\n",
    "# YOUR CODE HERE\n"
   ]
  }
 ],
 "metadata": {
  "kernelspec": {
   "display_name": "Python 3",
   "language": "python",
   "name": "python3"
  },
  "language_info": {
   "codemirror_mode": {
    "name": "ipython",
    "version": 3
   },
   "file_extension": ".py",
   "mimetype": "text/x-python",
   "name": "python",
   "nbconvert_exporter": "python",
   "pygments_lexer": "ipython3",
   "version": "3.6.7"
  }
 },
 "nbformat": 4,
 "nbformat_minor": 2
}
